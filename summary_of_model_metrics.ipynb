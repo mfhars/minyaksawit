{
 "cells": [
  {
   "cell_type": "markdown",
   "metadata": {},
   "source": [
    "Library pip Installation"
   ]
  },
  {
   "cell_type": "code",
   "execution_count": 9,
   "metadata": {},
   "outputs": [],
   "source": [
    "#Installing the required library\n",
    "#!pip install tensorflow==2.10.0\n",
    "#!pip install numpy==1.23.4\n",
    "#!pip install pandas==1.5.2\n",
    "#!pip install scikit-learn==1.1.3"
   ]
  },
  {
   "cell_type": "markdown",
   "metadata": {},
   "source": [
    "Library imports"
   ]
  },
  {
   "cell_type": "code",
   "execution_count": 10,
   "metadata": {},
   "outputs": [
    {
     "name": "stdout",
     "output_type": "stream",
     "text": [
      "To ensure repeatability, use the following setup:\n",
      "TensorFlow version: 2.10.0\n",
      "Numpy version: 1.23.4\n",
      "Pandas version: 1.5.2\n",
      "SKLearn version: 1.1.3\n",
      "Python version: 3.8.6 (tags/v3.8.6:db45529, Sep 23 2020, 15:52:53) [MSC v.1927 64 bit (AMD64)]\n",
      "==============================\n",
      "Your current library version:\n",
      "Numpy version: 1.24.3\n",
      "Pandas version: 2.0.3\n",
      "SKLearn version: 1.3.0\n",
      "Python version: 3.11.5 | packaged by Anaconda, Inc. | (main, Sep 11 2023, 13:26:23) [MSC v.1916 64 bit (AMD64)]\n"
     ]
    }
   ],
   "source": [
    "# Data processing and visualization library\n",
    "import numpy as np\n",
    "import pandas as pd\n",
    "import matplotlib.pyplot as plt\n",
    "import matplotlib.patches\n",
    "\n",
    "# Tensorflow and keras library\n",
    "#import tensorflow as tf\n",
    "#from tensorflow import keras\n",
    "#from keras.optimizers import Adam\n",
    "#from keras.callbacks import EarlyStopping, TensorBoard\n",
    "#from keras.models import load_model\n",
    "\n",
    "# ScikitLearn library\n",
    "import sklearn\n",
    "from sklearn.model_selection import train_test_split\n",
    "from sklearn.preprocessing import StandardScaler\n",
    "from sklearn.pipeline import Pipeline\n",
    "from sklearn.metrics import mean_squared_error\n",
    "from sklearn.metrics import r2_score\n",
    "from sklearn.metrics import mean_absolute_error\n",
    "\n",
    "# Misc\n",
    "import sys\n",
    "import os\n",
    "import random\n",
    "from unicodedata import name\n",
    "from datetime import datetime\n",
    "\n",
    "print(\"To ensure repeatability, use the following setup:\")\n",
    "print(\"TensorFlow version:\", \"2.10.0\")\n",
    "print(\"Numpy version:\", '1.23.4')\n",
    "print(\"Pandas version:\", '1.5.2')\n",
    "print(\"SKLearn version:\", \"1.1.3\")\n",
    "print(\"Python version:\", \"3.8.6 (tags/v3.8.6:db45529, Sep 23 2020, 15:52:53) [MSC v.1927 64 bit (AMD64)]\")\n",
    "print(\"==============================\")\n",
    "print(\"Your current library version:\")\n",
    "#print(\"TensorFlow version:\", tf.__version__)\n",
    "print(\"Numpy version:\", np.__version__)\n",
    "print(\"Pandas version:\", pd.__version__)\n",
    "print(\"SKLearn version:\", sklearn.__version__)\n",
    "print(\"Python version:\",sys.version)"
   ]
  },
  {
   "cell_type": "markdown",
   "metadata": {},
   "source": [
    "Directory update"
   ]
  },
  {
   "cell_type": "code",
   "execution_count": 11,
   "metadata": {},
   "outputs": [],
   "source": [
    "# Get the current directory\n",
    "current_directory = os.getcwd()\n",
    "\n",
    "# Construct the relative path to the CSV file\n",
    "#csv_filename1 = 'datasetscsv/trainval_set.csv' #Training-validation datasets\n",
    "#csv_filename2 = 'datasetscsv/test_set.csv' #Unseen test set\n",
    "#csv_filename3 = 'datasetscsv/master_dataset.csv' #Combined train-validation-test set\n",
    "#csv_filename4 = 'datasetscsv/allMolecule.csv' #Molecule only set\n",
    "\n",
    "#csv_path1 = os.path.join(current_directory, csv_filename1)\n",
    "#csv_path2 = os.path.join(current_directory, csv_filename2)\n",
    "#sv_path3 = os.path.join(current_directory, csv_filename3)\n",
    "#csv_path4 = os.path.join(current_directory, csv_filename4)\n",
    "#seed = 21\n",
    "#random.seed(seed)"
   ]
  },
  {
   "cell_type": "markdown",
   "metadata": {},
   "source": [
    "Dataset processing"
   ]
  },
  {
   "cell_type": "code",
   "execution_count": 12,
   "metadata": {},
   "outputs": [
    {
     "ename": "NameError",
     "evalue": "name 'csv_path1' is not defined",
     "output_type": "error",
     "traceback": [
      "\u001b[1;31m---------------------------------------------------------------------------\u001b[0m",
      "\u001b[1;31mNameError\u001b[0m                                 Traceback (most recent call last)",
      "Cell \u001b[1;32mIn[12], line 2\u001b[0m\n\u001b[0;32m      1\u001b[0m \u001b[38;5;66;03m# Importing dataset\u001b[39;00m\n\u001b[1;32m----> 2\u001b[0m trainval_df \u001b[38;5;241m=\u001b[39m pd\u001b[38;5;241m.\u001b[39mread_csv(csv_path1, names\u001b[38;5;241m=\u001b[39m[\u001b[38;5;124m\"\u001b[39m\u001b[38;5;124mMolecule\u001b[39m\u001b[38;5;124m\"\u001b[39m, \u001b[38;5;124m\"\u001b[39m\u001b[38;5;124mFormula\u001b[39m\u001b[38;5;124m\"\u001b[39m,\u001b[38;5;124m\"\u001b[39m\u001b[38;5;124mSMILES\u001b[39m\u001b[38;5;124m\"\u001b[39m,\u001b[38;5;124m\"\u001b[39m\u001b[38;5;124mType\u001b[39m\u001b[38;5;124m\"\u001b[39m,\u001b[38;5;124m\"\u001b[39m\u001b[38;5;124mCyclicity\u001b[39m\u001b[38;5;124m\"\u001b[39m,\n\u001b[0;32m      3\u001b[0m                                        \u001b[38;5;124m\"\u001b[39m\u001b[38;5;124mPrimary counts\u001b[39m\u001b[38;5;124m\"\u001b[39m,\u001b[38;5;124m\"\u001b[39m\u001b[38;5;124mSecondary counts\u001b[39m\u001b[38;5;124m\"\u001b[39m,\u001b[38;5;124m\"\u001b[39m\u001b[38;5;124mTertiary counts\u001b[39m\u001b[38;5;124m\"\u001b[39m,\n\u001b[0;32m      4\u001b[0m                                        \u001b[38;5;124m\"\u001b[39m\u001b[38;5;124mHydroxyl counts\u001b[39m\u001b[38;5;124m\"\u001b[39m,\u001b[38;5;124m\"\u001b[39m\u001b[38;5;124mCarboxyl counts\u001b[39m\u001b[38;5;124m\"\u001b[39m,\u001b[38;5;124m\"\u001b[39m\u001b[38;5;124mOxyl counts\u001b[39m\u001b[38;5;124m\"\u001b[39m,\n\u001b[0;32m      5\u001b[0m                                        \u001b[38;5;124m\"\u001b[39m\u001b[38;5;124mM0(nhb)\u001b[39m\u001b[38;5;124m\"\u001b[39m, \u001b[38;5;124m\"\u001b[39m\u001b[38;5;124mM0(oh)\u001b[39m\u001b[38;5;124m\"\u001b[39m, \u001b[38;5;124m\"\u001b[39m\u001b[38;5;124mM0(nh)\u001b[39m\u001b[38;5;124m\"\u001b[39m, \u001b[38;5;124m\"\u001b[39m\u001b[38;5;124mM0(op)\u001b[39m\u001b[38;5;124m\"\u001b[39m, \n\u001b[0;32m      6\u001b[0m                                        \u001b[38;5;124m\"\u001b[39m\u001b[38;5;124mM1(nhb_donor)\u001b[39m\u001b[38;5;124m\"\u001b[39m, \u001b[38;5;124m\"\u001b[39m\u001b[38;5;124mM1(nhb_weak)\u001b[39m\u001b[38;5;124m\"\u001b[39m, \u001b[38;5;124m\"\u001b[39m\u001b[38;5;124mM1(nhb_acceptor)\u001b[39m\u001b[38;5;124m\"\u001b[39m,\n\u001b[0;32m      7\u001b[0m                                        \u001b[38;5;124m\"\u001b[39m\u001b[38;5;124mM1(oh_donor)\u001b[39m\u001b[38;5;124m\"\u001b[39m, \u001b[38;5;124m\"\u001b[39m\u001b[38;5;124mM1(oh_weak)\u001b[39m\u001b[38;5;124m\"\u001b[39m,\u001b[38;5;124m\"\u001b[39m\u001b[38;5;124mM1(oh_acceptor)\u001b[39m\u001b[38;5;124m\"\u001b[39m,\n\u001b[0;32m      8\u001b[0m                                        \u001b[38;5;124m\"\u001b[39m\u001b[38;5;124mM1(nh_donor)\u001b[39m\u001b[38;5;124m\"\u001b[39m, \u001b[38;5;124m\"\u001b[39m\u001b[38;5;124mM1(nh_weak)\u001b[39m\u001b[38;5;124m\"\u001b[39m, \u001b[38;5;124m\"\u001b[39m\u001b[38;5;124mM1(nh_acceptor)\u001b[39m\u001b[38;5;124m\"\u001b[39m,\n\u001b[0;32m      9\u001b[0m                                        \u001b[38;5;124m\"\u001b[39m\u001b[38;5;124mM1(op_donor)\u001b[39m\u001b[38;5;124m\"\u001b[39m, \u001b[38;5;124m\"\u001b[39m\u001b[38;5;124mM1(op_weak)\u001b[39m\u001b[38;5;124m\"\u001b[39m, \u001b[38;5;124m\"\u001b[39m\u001b[38;5;124mM1(op_acceptor)\u001b[39m\u001b[38;5;124m\"\u001b[39m,\n\u001b[0;32m     10\u001b[0m                                        \u001b[38;5;124m\"\u001b[39m\u001b[38;5;124mM2(nhb)\u001b[39m\u001b[38;5;124m\"\u001b[39m, \u001b[38;5;124m\"\u001b[39m\u001b[38;5;124mM2(oh)\u001b[39m\u001b[38;5;124m\"\u001b[39m, \u001b[38;5;124m\"\u001b[39m\u001b[38;5;124mM2(nh)\u001b[39m\u001b[38;5;124m\"\u001b[39m,\u001b[38;5;124m\"\u001b[39m\u001b[38;5;124mM2(op)\u001b[39m\u001b[38;5;124m\"\u001b[39m,\n\u001b[0;32m     11\u001b[0m                                        \u001b[38;5;124m\"\u001b[39m\u001b[38;5;124mMW\u001b[39m\u001b[38;5;124m\"\u001b[39m,\u001b[38;5;124m\"\u001b[39m\u001b[38;5;124mPartial Pressure\u001b[39m\u001b[38;5;124m\"\u001b[39m,\u001b[38;5;124m\"\u001b[39m\u001b[38;5;124mTemperature\u001b[39m\u001b[38;5;124m\"\u001b[39m,\n\u001b[0;32m     12\u001b[0m                                        \u001b[38;5;124m\"\u001b[39m\u001b[38;5;124mAmine Concentration\u001b[39m\u001b[38;5;124m\"\u001b[39m, \u001b[38;5;124m\"\u001b[39m\u001b[38;5;124mAbsorption Capacity\u001b[39m\u001b[38;5;124m\"\u001b[39m, \u001b[38;5;124m\"\u001b[39m\u001b[38;5;124mReferences\u001b[39m\u001b[38;5;124m\"\u001b[39m,\u001b[38;5;124m\"\u001b[39m\u001b[38;5;124mRounded Concentration\u001b[39m\u001b[38;5;124m\"\u001b[39m, \u001b[38;5;124m\"\u001b[39m\u001b[38;5;124mAbbreviation\u001b[39m\u001b[38;5;124m\"\u001b[39m]) \n\u001b[0;32m     13\u001b[0m test_df     \u001b[38;5;241m=\u001b[39m pd\u001b[38;5;241m.\u001b[39mread_csv(csv_path2, names\u001b[38;5;241m=\u001b[39m[\u001b[38;5;124m\"\u001b[39m\u001b[38;5;124mMolecule\u001b[39m\u001b[38;5;124m\"\u001b[39m, \u001b[38;5;124m\"\u001b[39m\u001b[38;5;124mFormula\u001b[39m\u001b[38;5;124m\"\u001b[39m,\u001b[38;5;124m\"\u001b[39m\u001b[38;5;124mSMILES\u001b[39m\u001b[38;5;124m\"\u001b[39m,\u001b[38;5;124m\"\u001b[39m\u001b[38;5;124mType\u001b[39m\u001b[38;5;124m\"\u001b[39m,\u001b[38;5;124m\"\u001b[39m\u001b[38;5;124mCyclicity\u001b[39m\u001b[38;5;124m\"\u001b[39m, \n\u001b[0;32m     14\u001b[0m                                        \u001b[38;5;124m\"\u001b[39m\u001b[38;5;124mPrimary counts\u001b[39m\u001b[38;5;124m\"\u001b[39m,\u001b[38;5;124m\"\u001b[39m\u001b[38;5;124mSecondary counts\u001b[39m\u001b[38;5;124m\"\u001b[39m,\u001b[38;5;124m\"\u001b[39m\u001b[38;5;124mTertiary counts\u001b[39m\u001b[38;5;124m\"\u001b[39m,\n\u001b[0;32m     15\u001b[0m                                        \u001b[38;5;124m\"\u001b[39m\u001b[38;5;124mHydroxyl counts\u001b[39m\u001b[38;5;124m\"\u001b[39m,\u001b[38;5;124m\"\u001b[39m\u001b[38;5;124mCarboxyl counts\u001b[39m\u001b[38;5;124m\"\u001b[39m,\u001b[38;5;124m\"\u001b[39m\u001b[38;5;124mOxyl counts\u001b[39m\u001b[38;5;124m\"\u001b[39m,\n\u001b[1;32m   (...)\u001b[0m\n\u001b[0;32m     22\u001b[0m                                        \u001b[38;5;124m\"\u001b[39m\u001b[38;5;124mMW\u001b[39m\u001b[38;5;124m\"\u001b[39m,\u001b[38;5;124m\"\u001b[39m\u001b[38;5;124mPartial Pressure\u001b[39m\u001b[38;5;124m\"\u001b[39m,\u001b[38;5;124m\"\u001b[39m\u001b[38;5;124mTemperature\u001b[39m\u001b[38;5;124m\"\u001b[39m,\n\u001b[0;32m     23\u001b[0m                                        \u001b[38;5;124m\"\u001b[39m\u001b[38;5;124mAmine Concentration\u001b[39m\u001b[38;5;124m\"\u001b[39m, \u001b[38;5;124m\"\u001b[39m\u001b[38;5;124mAbsorption Capacity\u001b[39m\u001b[38;5;124m\"\u001b[39m, \u001b[38;5;124m\"\u001b[39m\u001b[38;5;124mReferences\u001b[39m\u001b[38;5;124m\"\u001b[39m,\u001b[38;5;124m\"\u001b[39m\u001b[38;5;124mRounded Concentration\u001b[39m\u001b[38;5;124m\"\u001b[39m, \u001b[38;5;124m\"\u001b[39m\u001b[38;5;124mAbbreviation\u001b[39m\u001b[38;5;124m\"\u001b[39m]) \n\u001b[0;32m     25\u001b[0m \u001b[38;5;66;03m# PREPROCESSING\u001b[39;00m\n",
      "\u001b[1;31mNameError\u001b[0m: name 'csv_path1' is not defined"
     ]
    },
    {
     "ename": "",
     "evalue": "",
     "output_type": "error",
     "traceback": [
      "\u001b[1;31mThe Kernel crashed while executing code in the current cell or a previous cell. \n",
      "\u001b[1;31mPlease review the code in the cell(s) to identify a possible cause of the failure. \n",
      "\u001b[1;31mClick <a href='https://aka.ms/vscodeJupyterKernelCrash'>here</a> for more info. \n",
      "\u001b[1;31mView Jupyter <a href='command:jupyter.viewOutput'>log</a> for further details."
     ]
    }
   ],
   "source": [
    "# Importing dataset\n",
    "trainval_df = pd.read_csv(csv_path1, names=[\"Molecule\", \"Formula\",\"SMILES\",\"Type\",\"Cyclicity\",\n",
    "                                       \"Primary counts\",\"Secondary counts\",\"Tertiary counts\",\n",
    "                                       \"Hydroxyl counts\",\"Carboxyl counts\",\"Oxyl counts\",\n",
    "                                       \"M0(nhb)\", \"M0(oh)\", \"M0(nh)\", \"M0(op)\", \n",
    "                                       \"M1(nhb_donor)\", \"M1(nhb_weak)\", \"M1(nhb_acceptor)\",\n",
    "                                       \"M1(oh_donor)\", \"M1(oh_weak)\",\"M1(oh_acceptor)\",\n",
    "                                       \"M1(nh_donor)\", \"M1(nh_weak)\", \"M1(nh_acceptor)\",\n",
    "                                       \"M1(op_donor)\", \"M1(op_weak)\", \"M1(op_acceptor)\",\n",
    "                                       \"M2(nhb)\", \"M2(oh)\", \"M2(nh)\",\"M2(op)\",\n",
    "                                       \"MW\",\"Partial Pressure\",\"Temperature\",\n",
    "                                       \"Amine Concentration\", \"Absorption Capacity\", \"References\",\"Rounded Concentration\", \"Abbreviation\"]) \n",
    "test_df     = pd.read_csv(csv_path2, names=[\"Molecule\", \"Formula\",\"SMILES\",\"Type\",\"Cyclicity\", \n",
    "                                       \"Primary counts\",\"Secondary counts\",\"Tertiary counts\",\n",
    "                                       \"Hydroxyl counts\",\"Carboxyl counts\",\"Oxyl counts\",\n",
    "                                       \"M0(nhb)\", \"M0(oh)\", \"M0(nh)\", \"M0(op)\", \n",
    "                                       \"M1(nhb_donor)\", \"M1(nhb_weak)\", \"M1(nhb_acceptor)\",\n",
    "                                       \"M1(oh_donor)\", \"M1(oh_weak)\",\"M1(oh_acceptor)\",\n",
    "                                       \"M1(nh_donor)\", \"M1(nh_weak)\", \"M1(nh_acceptor)\",\n",
    "                                       \"M1(op_donor)\", \"M1(op_weak)\", \"M1(op_acceptor)\",\n",
    "                                       \"M2(nhb)\", \"M2(oh)\", \"M2(nh)\",\"M2(op)\",\n",
    "                                       \"MW\",\"Partial Pressure\",\"Temperature\",\n",
    "                                       \"Amine Concentration\", \"Absorption Capacity\", \"References\",\"Rounded Concentration\", \"Abbreviation\"]) \n",
    "\n",
    "# PREPROCESSING\n",
    "X_test_label = test_df.drop(columns=[\"Absorption Capacity\"]) #Drop the target column for test set\n",
    "y_test = test_df['Absorption Capacity'] #Target column for test set\n",
    "\n",
    "X_trainval_label =  trainval_df.drop(columns=[\"Absorption Capacity\"]) #Drop the target column for training-validation set\n",
    "y_trainval_label = trainval_df['Absorption Capacity'] #Target column for training-validation set\n",
    "\n",
    "# DATA SPLITING\n",
    "X_train, X_val, y_train, y_val = train_test_split(X_trainval_label, y_trainval_label, test_size=0.20, random_state=seed) #Split the training-validation set into training and validation set\n",
    "\n",
    "# Reserve the dataset for visualization\n",
    "X_train_1 = X_train.copy() #Copy the training set\n",
    "X_val_1 = X_val.copy() #Copy the validation set\n",
    "X_reserved = pd.concat([X_train_1, X_val_1, X_test_label], axis=0) #Concatenate the training, validation, and test set\n",
    "\n",
    "# DROPPING STRINGS AND DATA PREPROCESSING\n",
    "X_train = X_train.drop(columns=[\"Molecule\", \"Formula\", \"SMILES\", \"Type\", \"Cyclicity\", \"References\", \"Rounded Concentration\", \"Abbreviation\"]) #Drop the string columns for training set\n",
    "X_test = X_test_label.drop(columns=[\"Molecule\", \"Formula\", \"SMILES\", \"Type\", \"Cyclicity\", \"References\", \"Rounded Concentration\", \"Abbreviation\"]) #Drop the string columns for test set\n",
    "X_val = X_val.drop(columns=[\"Molecule\", \"Formula\", \"SMILES\", \"Type\", \"Cyclicity\", \"References\", \"Rounded Concentration\", \"Abbreviation\"]) #Drop the string columns for validation set\n",
    "\n",
    "feature_names = X_train.columns.tolist() #Get the feature names\n",
    "preprocessor = Pipeline(steps=[('step1', StandardScaler())]) #Standardize the data\n",
    "pipeline = Pipeline(steps=[('preprocessor', preprocessor)]) #Create a pipeline\n",
    "\n",
    "X_train = pipeline.fit_transform(X_train)\n",
    "X_train = pd.DataFrame(X_train, columns=feature_names)\n",
    "\n",
    "X_val = pipeline.transform(X_val)\n",
    "X_val = pd.DataFrame(X_val, columns=feature_names)\n",
    "\n",
    "X_test = pipeline.transform(X_test)\n",
    "X_test = pd.DataFrame(X_test, columns=feature_names)\n",
    "\n",
    "master_df = pd.read_csv(csv_path3, \n",
    "    names=[\"Molecule\",\"Formula\",\"SMILES\",\"Type\",\"Cyclicity\",\n",
    "           \"Primary counts\",\"Secondary counts\",\"Tertiary counts\",\n",
    "           \"Hydroxyl counts\",\"Carboxyl counts\",\"Oxyl counts\",\n",
    "           \"M0(nhb)\", \"M0(oh)\", \"M0(nh)\", \"M0(op)\", \n",
    "           \"M1(nhb_donor)\", \"M1(nhb_weak)\", \"M1(nhb_acceptor)\",\n",
    "           \"M1(oh_donor)\", \"M1(oh_weak)\",\"M1(oh_acceptor)\",\n",
    "           \"M1(nh_donor)\", \"M1(nh_weak)\", \"M1(nh_acceptor)\",\n",
    "           \"M1(op_donor)\", \"M1(op_weak)\", \"M1(op_acceptor)\",\n",
    "           \"M2(nhb)\", \"M2(oh)\", \"M2(nh)\",\"M2(op)\",\n",
    "           \"MW\",\"Partial Pressure\",\"Temperature\",\n",
    "           \"Amine Concentration\", \"Absorption Capacity\", \"References\",\"Rounded Concentration\",\"Abbreviation\"]) \n",
    "\n",
    "scaler = preprocessor.named_steps['step1']\n",
    "mean_values = scaler.mean_[27] # pressure structure\n",
    "std_values = scaler.scale_[27] # pressure structure"
   ]
  }
 ],
 "metadata": {
  "kernelspec": {
   "display_name": "base",
   "language": "python",
   "name": "python3"
  },
  "language_info": {
   "codemirror_mode": {
    "name": "ipython",
    "version": 3
   },
   "file_extension": ".py",
   "mimetype": "text/x-python",
   "name": "python",
   "nbconvert_exporter": "python",
   "pygments_lexer": "ipython3",
   "version": "3.11.5"
  }
 },
 "nbformat": 4,
 "nbformat_minor": 2
}
